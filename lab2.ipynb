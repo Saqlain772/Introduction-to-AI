{
 "cells": [
  {
   "cell_type": "markdown",
   "id": "7dd37ecb",
   "metadata": {},
   "source": [
    "## SWAP THE VALUE "
   ]
  },
  {
   "cell_type": "code",
   "execution_count": 26,
   "id": "fefc5ec1",
   "metadata": {},
   "outputs": [
    {
     "name": "stdout",
     "output_type": "stream",
     "text": [
      "b is equal to  5.0\n",
      "a is equal to  7.0\n"
     ]
    }
   ],
   "source": [
    "a,b=5,7\n",
    "a=a*b\n",
    "b=a/b\n",
    "print(\"b is equal to \",b)\n",
    "a=a/b\n",
    "print(\"a is equal to \",a)\n"
   ]
  },
  {
   "cell_type": "markdown",
   "id": "95c380fe",
   "metadata": {},
   "source": [
    "## Table of Square and Cube "
   ]
  },
  {
   "cell_type": "code",
   "execution_count": 1,
   "id": "ea53aabf",
   "metadata": {},
   "outputs": [
    {
     "name": "stdout",
     "output_type": "stream",
     "text": [
      "number   square  cube \n",
      "0 \t 0 \t 0\n",
      "1 \t 1 \t 1\n",
      "2 \t 4 \t 8\n",
      "3 \t 9 \t 27\n",
      "4 \t 16 \t 64\n",
      "5 \t 25 \t 125\n",
      "6 \t 36 \t 216\n",
      "7 \t 49 \t 343\n",
      "8 \t 64 \t 512\n",
      "9 \t 81 \t 729\n",
      "10 \t 100 \t 1000\n"
     ]
    }
   ],
   "source": [
    "a,b,c,d,e,f,g,h,i,j,k=0,1,2,3,4,5,6,7,8,9,10\n",
    "print(\"number   square  cube \")\n",
    "print(a,\"\\t\", a**2,\"\\t\",a**3)\n",
    "print(b,\"\\t\", b**2,\"\\t\",b**3)\n",
    "print(c,\"\\t\", c**2,\"\\t\",c**3)\n",
    "print(d,\"\\t\", d**2,\"\\t\",d**3)\n",
    "print(e,\"\\t\", e**2,\"\\t\",e**3)\n",
    "print(f,\"\\t\", f**2,\"\\t\",f**3)\n",
    "print(g,\"\\t\", g**2,\"\\t\",g**3)\n",
    "print(h,\"\\t\", h**2,\"\\t\",h**3)\n",
    "print(i,\"\\t\", i**2,\"\\t\",i**3)\n",
    "print(j,\"\\t\", j**2,\"\\t\",j**3)\n",
    "print(k,\"\\t\", k**2,\"\\t\",k**3)"
   ]
  },
  {
   "cell_type": "markdown",
   "id": "d89b0d72",
   "metadata": {},
   "source": [
    "## Draw a BOx ,an Arrrow ,an Ovel ,a Diamond "
   ]
  },
  {
   "cell_type": "code",
   "execution_count": 8,
   "id": "46706aa1",
   "metadata": {},
   "outputs": [
    {
     "name": "stdout",
     "output_type": "stream",
     "text": [
      "*********\n",
      "*        *        \n",
      "*        *        \n",
      "*        *\n",
      "*********\n"
     ]
    }
   ],
   "source": [
    "print('''*********\n",
    "*        *        \n",
    "*        *        \n",
    "*        *\n",
    "*********''')\n",
    "            \n",
    "      "
   ]
  },
  {
   "cell_type": "code",
   "execution_count": 11,
   "id": "f2b150c3",
   "metadata": {},
   "outputs": [
    {
     "name": "stdout",
     "output_type": "stream",
     "text": [
      "   ***\n",
      " *     *\n",
      "*       *\n",
      "*       *\n",
      "*       *\n",
      "*       *\n",
      "*       *\n",
      "*       *\n",
      " *    *\n",
      "   ***\n"
     ]
    }
   ],
   "source": [
    "print('''   ***\n",
    " *     *\n",
    "*       *\n",
    "*       *\n",
    "*       *\n",
    "*       *\n",
    "*       *\n",
    "*       *\n",
    " *    *\n",
    "   ***''')"
   ]
  },
  {
   "cell_type": "code",
   "execution_count": 14,
   "id": "1d3a3b93",
   "metadata": {},
   "outputs": [
    {
     "name": "stdout",
     "output_type": "stream",
     "text": [
      "   *\n",
      "  ***\n",
      " *****\n",
      "   *\n",
      "   *\n",
      "   *\n",
      "   *\n",
      "   *\n"
     ]
    }
   ],
   "source": [
    "print('''   *\n",
    "  ***\n",
    " *****\n",
    "   *\n",
    "   *\n",
    "   *\n",
    "   *\n",
    "   *''')"
   ]
  },
  {
   "cell_type": "code",
   "execution_count": 6,
   "id": "2dc7b53e",
   "metadata": {},
   "outputs": [
    {
     "name": "stdout",
     "output_type": "stream",
     "text": [
      "             *\n",
      "            * * \n",
      "           *   *\n",
      "          *     *\n",
      "         *       *\n",
      "          *     * \n",
      "           *   *\n",
      "            * *  \n",
      "             *\n"
     ]
    }
   ],
   "source": [
    "print('''             *\n",
    "            * * \n",
    "           *   *\n",
    "          *     *\n",
    "         *       *\n",
    "          *     * \n",
    "           *   *\n",
    "            * *  \n",
    "             *''')"
   ]
  },
  {
   "cell_type": "code",
   "execution_count": 1,
   "id": "5babc3e8",
   "metadata": {},
   "outputs": [
    {
     "data": {
      "text/plain": [
       "48"
      ]
     },
     "execution_count": 1,
     "metadata": {},
     "output_type": "execute_result"
    }
   ],
   "source": [
    "\n",
    "6*--------8\n",
    "\n",
    "\n"
   ]
  },
  {
   "cell_type": "code",
   "execution_count": 2,
   "id": "b961241f",
   "metadata": {},
   "outputs": [
    {
     "ename": "SyntaxError",
     "evalue": "cannot assign to literal here. Maybe you meant '==' instead of '='? (1061969552.py, line 1)",
     "output_type": "error",
     "traceback": [
      "\u001b[1;36m  Cell \u001b[1;32mIn[2], line 1\u001b[1;36m\u001b[0m\n\u001b[1;33m    8=people\u001b[0m\n\u001b[1;37m    ^\u001b[0m\n\u001b[1;31mSyntaxError\u001b[0m\u001b[1;31m:\u001b[0m cannot assign to literal here. Maybe you meant '==' instead of '='?\n"
     ]
    }
   ],
   "source": [
    "8=people"
   ]
  },
  {
   "cell_type": "code",
   "execution_count": 3,
   "id": "ebdaaec3",
   "metadata": {},
   "outputs": [
    {
     "data": {
      "text/plain": [
       "64"
      ]
     },
     "execution_count": 3,
     "metadata": {},
     "output_type": "execute_result"
    }
   ],
   "source": [
    "((((4**3))))"
   ]
  },
  {
   "cell_type": "code",
   "execution_count": 4,
   "id": "dd7b16b2",
   "metadata": {},
   "outputs": [
    {
     "data": {
      "text/plain": [
       "5"
      ]
     },
     "execution_count": 4,
     "metadata": {},
     "output_type": "execute_result"
    }
   ],
   "source": [
    "(-(-(-(-5))))"
   ]
  },
  {
   "cell_type": "code",
   "execution_count": 5,
   "id": "8f962185",
   "metadata": {},
   "outputs": [
    {
     "ename": "SyntaxError",
     "evalue": "'literal' is an illegal expression for augmented assignment (3202540999.py, line 1)",
     "output_type": "error",
     "traceback": [
      "\u001b[1;36m  Cell \u001b[1;32mIn[5], line 1\u001b[1;36m\u001b[0m\n\u001b[1;33m    4+=7/2\u001b[0m\n\u001b[1;37m    ^\u001b[0m\n\u001b[1;31mSyntaxError\u001b[0m\u001b[1;31m:\u001b[0m 'literal' is an illegal expression for augmented assignment\n"
     ]
    }
   ],
   "source": []
  },
  {
   "cell_type": "code",
   "execution_count": null,
   "id": "e5377e05",
   "metadata": {},
   "outputs": [],
   "source": []
  }
 ],
 "metadata": {
  "kernelspec": {
   "display_name": "Python 3 (ipykernel)",
   "language": "python",
   "name": "python3"
  },
  "language_info": {
   "codemirror_mode": {
    "name": "ipython",
    "version": 3
   },
   "file_extension": ".py",
   "mimetype": "text/x-python",
   "name": "python",
   "nbconvert_exporter": "python",
   "pygments_lexer": "ipython3",
   "version": "3.10.9"
  }
 },
 "nbformat": 4,
 "nbformat_minor": 5
}
