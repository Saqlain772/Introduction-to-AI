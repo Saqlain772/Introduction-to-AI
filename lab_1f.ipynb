{
 "cells": [
  {
   "cell_type": "markdown",
   "id": "b019504c",
   "metadata": {},
   "source": [
    "1.Write a program in jupyter notebook, that prints on screen the message Hello, World."
   ]
  },
  {
   "cell_type": "code",
   "execution_count": 1,
   "id": "e2ac27a4",
   "metadata": {},
   "outputs": [
    {
     "name": "stdout",
     "output_type": "stream",
     "text": [
      "Hello, World\n"
     ]
    }
   ],
   "source": [
    "print(\"Hello, World\")\n"
   ]
  },
  {
   "cell_type": "markdown",
   "id": "2387134b",
   "metadata": {},
   "source": [
    "      2.Using the program in (1), what happens if we remove the closing quotation around the text Hello, World? "
   ]
  },
  {
   "cell_type": "code",
   "execution_count": 2,
   "id": "7df2c43c",
   "metadata": {},
   "outputs": [
    {
     "ename": "SyntaxError",
     "evalue": "unterminated string literal (detected at line 1) (3755911955.py, line 1)",
     "output_type": "error",
     "traceback": [
      "\u001b[1;36m  Cell \u001b[1;32mIn[2], line 1\u001b[1;36m\u001b[0m\n\u001b[1;33m    print(\"Hello, World)\u001b[0m\n\u001b[1;37m          ^\u001b[0m\n\u001b[1;31mSyntaxError\u001b[0m\u001b[1;31m:\u001b[0m unterminated string literal (detected at line 1)\n"
     ]
    }
   ],
   "source": [
    "print(\"Hello, World)\n"
   ]
  },
  {
   "cell_type": "markdown",
   "id": "d4f47539",
   "metadata": {},
   "source": [
    "3.Using the program in (1), what happens if we remove both the quotations around the text Hello, World? How is it different from the behavior in (2)"
   ]
  },
  {
   "cell_type": "code",
   "execution_count": 3,
   "id": "c4d05ffc",
   "metadata": {},
   "outputs": [
    {
     "ename": "NameError",
     "evalue": "name 'Hello' is not defined",
     "output_type": "error",
     "traceback": [
      "\u001b[1;31m---------------------------------------------------------------------------\u001b[0m",
      "\u001b[1;31mNameError\u001b[0m                                 Traceback (most recent call last)",
      "Cell \u001b[1;32mIn[3], line 1\u001b[0m\n\u001b[1;32m----> 1\u001b[0m \u001b[38;5;28mprint\u001b[39m(\u001b[43mHello\u001b[49m, World)\n",
      "\u001b[1;31mNameError\u001b[0m: name 'Hello' is not defined"
     ]
    }
   ],
   "source": [
    "print(Hello, World)\n"
   ]
  },
  {
   "cell_type": "markdown",
   "id": "44103593",
   "metadata": {},
   "source": [
    "4.Write a program using the print() command  that produces the following output:"
   ]
  },
  {
   "cell_type": "code",
   "execution_count": 7,
   "id": "688ccd40",
   "metadata": {},
   "outputs": [
    {
     "name": "stdout",
     "output_type": "stream",
     "text": [
      "     * \n",
      "     ** \n",
      " *** \n",
      "     **** \n",
      "  ***** \n"
     ]
    }
   ],
   "source": [
    "print(\"     * \")\n",
    "print(\"     ** \")\n",
    "print(\" *** \")\n",
    "print(\"     **** \")\n",
    "print(\"  ***** \")"
   ]
  },
  {
   "cell_type": "code",
   "execution_count": null,
   "id": "0ff0337b",
   "metadata": {},
   "outputs": [],
   "source": []
  }
 ],
 "metadata": {
  "kernelspec": {
   "display_name": "Python 3 (ipykernel)",
   "language": "python",
   "name": "python3"
  },
  "language_info": {
   "codemirror_mode": {
    "name": "ipython",
    "version": 3
   },
   "file_extension": ".py",
   "mimetype": "text/x-python",
   "name": "python",
   "nbconvert_exporter": "python",
   "pygments_lexer": "ipython3",
   "version": "3.10.9"
  }
 },
 "nbformat": 4,
 "nbformat_minor": 5
}
