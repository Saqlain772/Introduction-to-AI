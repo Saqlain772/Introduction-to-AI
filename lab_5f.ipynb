{
 "cells": [
  {
   "cell_type": "markdown",
   "id": "51309f27",
   "metadata": {},
   "source": [
    "Question 1:\n",
    "Create a 2D NumPy array with dimensions 5x5. Replace all elements in the last column with the mean value of that column.\n",
    "\n",
    "import numpy as np"
   ]
  },
  {
   "cell_type": "code",
   "execution_count": 1,
   "id": "53dbc4f6",
   "metadata": {},
   "outputs": [
    {
     "name": "stdout",
     "output_type": "stream",
     "text": [
      "Original Array:\n",
      "[[3 6 1 6 9]\n",
      " [2 7 7 3 1]\n",
      " [9 4 9 4 1]\n",
      " [7 5 5 5 7]\n",
      " [1 2 3 7 8]]\n",
      "\n",
      "Array After Replacing Last Column with Mean Value:\n",
      "[[3 6 1 6 5]\n",
      " [2 7 7 3 5]\n",
      " [9 4 9 4 5]\n",
      " [7 5 5 5 5]\n",
      " [1 2 3 7 5]]\n"
     ]
    }
   ],
   "source": [
    "import numpy as np\n",
    "\n",
    "array = np.random.randint(1, 10, size=(5, 5))\n",
    "print(\"Original Array:\")\n",
    "print(array)\n",
    "\n",
    "last_column_mean = np.mean(array[:, -1])\n",
    "array[:, -1] = last_column_mean\n",
    "\n",
    "print(\"\\nArray After Replacing Last Column with Mean Value:\")\n",
    "print(array)\n"
   ]
  },
  {
   "cell_type": "markdown",
   "id": "ce009f73",
   "metadata": {},
   "source": [
    "Question 2\n",
    "Create a NumPy array with the numbers 1 to 100. Reshape it into a 10x10 array. Calculate the sum of each row and find the row with the maximum sum.(Hint: you can use 'np.random.randint' to create the 2d array and fill it with random numbers.\n",
    "\n",
    "import numpy as np"
   ]
  },
  {
   "cell_type": "code",
   "execution_count": 3,
   "id": "4954047c",
   "metadata": {},
   "outputs": [
    {
     "name": "stdout",
     "output_type": "stream",
     "text": [
      "10x10 Array:\n",
      "[[  1   2   3   4   5   6   7   8   9  10]\n",
      " [ 11  12  13  14  15  16  17  18  19  20]\n",
      " [ 21  22  23  24  25  26  27  28  29  30]\n",
      " [ 31  32  33  34  35  36  37  38  39  40]\n",
      " [ 41  42  43  44  45  46  47  48  49  50]\n",
      " [ 51  52  53  54  55  56  57  58  59  60]\n",
      " [ 61  62  63  64  65  66  67  68  69  70]\n",
      " [ 71  72  73  74  75  76  77  78  79  80]\n",
      " [ 81  82  83  84  85  86  87  88  89  90]\n",
      " [ 91  92  93  94  95  96  97  98  99 100]]\n",
      "\n",
      "Sum of each row:\n",
      "[ 55 155 255 355 455 555 655 755 855 955]\n",
      "\n",
      "Row with the maximum sum (index 9):\n",
      "[ 91  92  93  94  95  96  97  98  99 100]\n"
     ]
    }
   ],
   "source": [
    "import numpy as np\n",
    "\n",
    "array_1d = np.arange(1, 101)\n",
    "\n",
    "array_2d = array_1d.reshape((10, 10))\n",
    "\n",
    "row_sums = np.sum(array_2d, axis=1)\n",
    "\n",
    "max_sum_row_index = np.argmax(row_sums)\n",
    "\n",
    "print(\"10x10 Array:\")\n",
    "print(array_2d)\n",
    "print(\"\\nSum of each row:\")\n",
    "print(row_sums)\n",
    "print(f\"\\nRow with the maximum sum (index {max_sum_row_index}):\")\n",
    "print(array_2d[max_sum_row_index])\n",
    "\n"
   ]
  },
  {
   "cell_type": "code",
   "execution_count": null,
   "id": "f0c5987a",
   "metadata": {},
   "outputs": [],
   "source": []
  }
 ],
 "metadata": {
  "kernelspec": {
   "display_name": "Python 3 (ipykernel)",
   "language": "python",
   "name": "python3"
  },
  "language_info": {
   "codemirror_mode": {
    "name": "ipython",
    "version": 3
   },
   "file_extension": ".py",
   "mimetype": "text/x-python",
   "name": "python",
   "nbconvert_exporter": "python",
   "pygments_lexer": "ipython3",
   "version": "3.10.9"
  }
 },
 "nbformat": 4,
 "nbformat_minor": 5
}
